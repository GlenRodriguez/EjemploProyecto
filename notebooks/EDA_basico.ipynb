{
 "cells": [
  {
   "cell_type": "markdown",
   "id": "6908e146",
   "metadata": {},
   "source": [
    "# EDA básico – Sprint 1\n",
    "\n",
    "Este notebook realiza un análisis exploratorio simple del dataset de clientes."
   ]
  },
  {
   "cell_type": "code",
   "execution_count": null,
   "id": "e8deeba9",
   "metadata": {},
   "outputs": [],
   "source": [
    "import pandas as pd\n",
    "import matplotlib.pyplot as plt\n",
    "\n",
    "%matplotlib inline\n",
    "\n",
    "# Intentar cargar el dataset procesado; si no existe, usar el crudo\n",
    "try:\n",
    "    df = pd.read_csv(\"../data/processed/customers_clean.csv\")\n",
    "    fuente = \"processed\"\n",
    "except FileNotFoundError:\n",
    "    df = pd.read_csv(\"../data/raw/customers.csv\")\n",
    "    fuente = \"raw\"\n",
    "\n",
    "df.head()"
   ]
  },
  {
   "cell_type": "code",
   "execution_count": null,
   "id": "2c55cd7e",
   "metadata": {},
   "outputs": [],
   "source": [
    "df.info()"
   ]
  },
  {
   "cell_type": "code",
   "execution_count": null,
   "id": "dc45eef8",
   "metadata": {},
   "outputs": [],
   "source": [
    "df.describe(include='all')"
   ]
  },
  {
   "cell_type": "markdown",
   "id": "97ef52ed",
   "metadata": {},
   "source": [
    "## Distribución de la clase `fraude`"
   ]
  },
  {
   "cell_type": "code",
   "execution_count": null,
   "id": "8355a8fe",
   "metadata": {},
   "outputs": [],
   "source": [
    "ax = df['fraude'].value_counts().sort_index().plot(kind='bar')\n",
    "ax.set_title(\"Conteo de clases (0 = no fraude, 1 = fraude)\")\n",
    "ax.set_xlabel(\"fraude\")\n",
    "ax.set_ylabel(\"conteo\")\n",
    "plt.show()"
   ]
  },
  {
   "cell_type": "markdown",
   "id": "5d836c22",
   "metadata": {},
   "source": [
    "## Histogramas de variables numéricas"
   ]
  },
  {
   "cell_type": "code",
   "execution_count": null,
   "id": "7b2d3945",
   "metadata": {},
   "outputs": [],
   "source": [
    "num_cols = [c for c in df.columns if df[c].dtype != 'object' and c != 'fraude']\n",
    "df[num_cols].hist(figsize=(8, 4))\n",
    "plt.tight_layout()\n",
    "plt.show()"
   ]
  },
  {
   "cell_type": "markdown",
   "id": "7ccb8523",
   "metadata": {},
   "source": [
    "## Conclusiones preliminares\n",
    "- La variable objetivo `fraude` está desbalanceada (pocos fraudes).\n",
    "- Revisar nulos en `edad` si se cargó desde `raw/`.\n",
    "- Para baseline usar **Dummy** y **kNN** con escalado de variables.\n"
   ]
  }
 ],
 "metadata": {},
 "nbformat": 4,
 "nbformat_minor": 5
}
